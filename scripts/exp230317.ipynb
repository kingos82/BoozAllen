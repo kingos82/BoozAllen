{
 "cells": [
  {
   "cell_type": "code",
   "execution_count": null,
   "metadata": {},
   "outputs": [],
   "source": [
    "import utils\n",
    "import pickle\n",
    "import joblib\n",
    "import sys, os\n",
    "import pandas as pd\n",
    "import numpy as np\n",
    "from torch.utils.data import Dataset\n",
    "from torch.utils.data import DataLoader\n",
    "sys.path.append(os.path.abspath(os.path.join(\"..\")))\n",
    "sys.path.append(os.path.abspath(os.path.join('.','./CMAPSSData/')))\n",
    "import matplotlib.pyplot as plt"
   ]
  },
  {
   "cell_type": "code",
   "execution_count": null,
   "metadata": {},
   "outputs": [],
   "source": [
    "from utils import rename_col, add_rul, minmax_dic, minmax_scl,smooth, smoothing, drop_org, LSTMRegressor, n_hidden_units, test, test_model, device\n",
    "import torch\n",
    "\n",
    "df_test = pd.read_csv(\"/home/kingos82/Fourthbrain/BoozAllen/CMAPSSData/test_FD002.txt\", header=None, sep = ' ')\n",
    "df_train = pd.read_csv(\"/home/kingos82/Fourthbrain/BoozAllen/CMAPSSData/train_FD002.txt\", header=None, sep = ' ')\n",
    "\n",
    "\n",
    "\n",
    "## Refactor data wrangling commands\n",
    "df_train=rename_col(df_train)\n",
    "df_test=rename_col(df_test)\n",
    "\n",
    "df_train=add_rul(df_train, 'train')\n",
    "df_test=add_rul(df_test, 'test')\n",
    "\n",
    "\n",
    "#Drop os3, s1, s5, s6, s10, s16, s18, s19 from both train and test\n",
    "\n",
    "drop_cols1 = ['os3','s1','s5','s6','s10','s16','s18','s19']\n",
    "df_train = df_train.drop(drop_cols1, axis = 1)\n",
    "df_test = df_test.drop(drop_cols1, axis = 1)\n",
    "\n",
    "#minmax scale the sensor values\n",
    "minmax_dict=minmax_dic(df_train)\n",
    "df_train=minmax_scl(df_train, minmax_dict)\n",
    "df_test=minmax_scl(df_test, minmax_dict)\n",
    "\n",
    "#smoothing the training & test data\n",
    "df_train=smoothing(df_train)\n",
    "df_test=smoothing(df_test)\n",
    "\n",
    "#drop original data\n",
    "df_train=drop_org(df_train)\n",
    "df_test=drop_org(df_test)\n",
    "\n",
    "# Instantiate the model\n",
    "n_features = len([c for c in df_train.columns if 's' in c])\n",
    "loaded_model = LSTMRegressor(n_features, n_hidden_units)\n",
    "\n",
    "# Load the saved state_dict\n",
    "model_path = \"/home/kingos82/Fourthbrain/BoozAllen/model2140_2.pt\"\n",
    "loaded_model.load_state_dict(torch.load(model_path))\n"
   ]
  },
  {
   "cell_type": "code",
   "execution_count": null,
   "metadata": {},
   "outputs": [],
   "source": [
    "    # Preparing Training, Validation and Test Dataloaders\n",
    "\n",
    "eng_num=df_test['unit'].max()+1\n",
    "units = np.arange(1,eng_num)\n",
    "\n",
    "test_data = test(units, df_test)\n",
    "\n",
    "torch.manual_seed(5)\n",
    "\n",
    "testloader = DataLoader(test_data, batch_size = 100)"
   ]
  },
  {
   "cell_type": "code",
   "execution_count": null,
   "metadata": {},
   "outputs": [],
   "source": [
    "\n",
    "mse, l1, y_pred, y = test_model(loaded_model, testloader, device)"
   ]
  },
  {
   "cell_type": "code",
   "execution_count": null,
   "metadata": {},
   "outputs": [],
   "source": [
    "df_RUL = pd.read_csv('/home/kingos82/Fourthbrain/BoozAllen/CMAPSSData/RUL_FD001.txt', header=None, sep = ' ')\n",
    "y=df_RUL[0].to_list()"
   ]
  },
  {
   "cell_type": "code",
   "execution_count": null,
   "metadata": {},
   "outputs": [],
   "source": [
    "fig, ax = plt.subplots(figsize = (14,8))\n",
    "ax.plot(np.arange(len(y_pred)), y_pred.numpy(), label = 'predictions', c = 'salmon')\n",
    "ax.plot(np.arange(len(y)), y, label = 'true values', c = 'lightseagreen')\n",
    "ax.set_xlabel('Test Engine Units', fontsize = 16)\n",
    "ax.set_ylabel('RUL', fontsize = 16)\n",
    "ax.grid(True)\n",
    "ax.legend()\n",
    "plt.show()"
   ]
  },
  {
   "cell_type": "code",
   "execution_count": null,
   "metadata": {},
   "outputs": [],
   "source": [
    "\n",
    "import plotly.graph_objects as go\n",
    "def plt_rlu(y, y_pred):\n",
    "    fig = go.Figure()\n",
    "\n",
    "    fig.add_trace(\n",
    "    go.Scatter(\n",
    "        x =np.arange(len(y_pred)),\n",
    "        y = y_pred,\n",
    "        mode = 'lines', # Change the mode in this section!\n",
    "        name='prediction'\n",
    "        )\n",
    "    )\n",
    "\n",
    "    fig.add_trace(\n",
    "    go.Scatter(\n",
    "        x =np.arange(len(y)),\n",
    "        y = y,\n",
    "        mode = 'lines', # Change the mode in this section!\n",
    "        name='True'\n",
    "        )\n",
    "    )\n",
    "    return fig"
   ]
  }
 ],
 "metadata": {
  "kernelspec": {
   "display_name": "BA",
   "language": "python",
   "name": "python3"
  },
  "language_info": {
   "codemirror_mode": {
    "name": "ipython",
    "version": 3
   },
   "file_extension": ".py",
   "mimetype": "text/x-python",
   "name": "python",
   "nbconvert_exporter": "python",
   "pygments_lexer": "ipython3",
   "version": "3.8.15"
  },
  "orig_nbformat": 4
 },
 "nbformat": 4,
 "nbformat_minor": 2
}
