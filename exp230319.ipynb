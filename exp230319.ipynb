{
 "cells": [
  {
   "cell_type": "code",
   "execution_count": 1,
   "metadata": {},
   "outputs": [],
   "source": [
    "from scripts.utils import rename_col, add_rul, minmax_dic, minmax_scl,smooth, smoothing, drop_org, LSTMRegressor, n_hidden_units, test, test_model, device\n",
    "import torch\n",
    "import pickle\n",
    "import joblib\n",
    "import sys, os\n",
    "import pandas as pd\n",
    "import numpy as np\n",
    "from pathlib import Path\n",
    "import plotly.graph_objects as go\n",
    "from torch.utils.data import Dataset\n",
    "from torch.utils.data import DataLoader\n",
    "sys.path.append(os.path.abspath(os.path.join(\"..\")))\n",
    "sys.path.append(os.path.abspath(os.path.join('..','./CMAPSSData/')))"
   ]
  },
  {
   "cell_type": "code",
   "execution_count": 32,
   "metadata": {},
   "outputs": [],
   "source": [
    "def choose_model(input):\n",
    "    if input ==\"model1\":\n",
    "        model_path=\"./model2140_1.pt\"\n",
    "        train_path=\"./CMAPSSData/train_FD001.txt\"\n",
    "    elif input=='model2':\n",
    "        model_path=\"./model2140_2.pt\"\n",
    "        train_path=\"./CMAPSSData/train_FD002.txt\"\n",
    "    elif input=='model3':\n",
    "        model_path=\"./model2140_3.pt\"\n",
    "        train_path=\"./CMAPSSData/train_FD003.txt\"\n",
    "    elif input=='model4':\n",
    "        model_path=\"./model2140_4.pt\"\n",
    "        train_path=\"./CMAPSSData/train_FD004.txt\"\n",
    "    return model_path, train_path\n",
    "\n",
    "\n",
    "\n",
    "def choose_test(input):\n",
    "    if input ==\"test1\":\n",
    "        test_path=\"./CMAPSSData/test_FD001.txt\"\n",
    "        RLU_path=\"./CMAPSSData/RUL_FD001.txt\"\n",
    "    elif input=='test2':\n",
    "        test_path=\"./CMAPSSData/test_FD002.txt\"\n",
    "        RLU_path=\"./CMAPSSData/RUL_FD002.txt\"\n",
    "    elif input=='test3':\n",
    "        test_path=\"./CMAPSSData/test_FD003.txt\"\n",
    "        RLU_path=\"./CMAPSSData/RUL_FD003.txt\"\n",
    "    elif input=='test4':\n",
    "        test_path=\"./CMAPSSData/test_FD004.txt\"\n",
    "        RLU_path=\"./CMAPSSData/RUL_FD004.txt\"\n",
    "    return test_path, RLU_path\n",
    "\n",
    "def plt_rlu(y, y_pred):\n",
    "    fig = go.Figure()\n",
    "\n",
    "    fig.add_trace(\n",
    "    go.Scatter(\n",
    "        x =np.arange(len(y_pred)),\n",
    "        y = y_pred,\n",
    "        mode = 'lines', # Change the mode in this section!\n",
    "        name='prediction'\n",
    "        )\n",
    "    )\n",
    "\n",
    "    fig.add_trace(\n",
    "    go.Scatter(\n",
    "        x =np.arange(len(y)),\n",
    "        y = y,\n",
    "        mode = 'lines', # Change the mode in this section!\n",
    "        name='True'\n",
    "        )\n",
    "    )\n",
    "\n",
    "    # Update figure to have title\n",
    "    fig.update_layout(\n",
    "        title=\"RUL prediction\",\n",
    "        xaxis_title=\"Number of units\",\n",
    "        yaxis_title=\"RUL\",\n",
    "        font=dict(\n",
    "            size=18,\n",
    "            color=\"black\"\n",
    "        )\n",
    "    )\n",
    "    \n",
    "    return fig\n"
   ]
  },
  {
   "cell_type": "code",
   "execution_count": 33,
   "metadata": {},
   "outputs": [],
   "source": [
    "def wrangle_data(input_path): \n",
    "\n",
    "        \n",
    "    df = pd.read_csv(Path(input_path), header=None, sep = ' ')\n",
    "    \n",
    "    ## Refactor data wrangling commands\n",
    "    df=rename_col(df)\n",
    "    df=add_rul(df, 'train')\n",
    "\n",
    "    #Drop os3, s1, s5, s6, s10, s16, s18, s19 from both train and test\n",
    "    drop_cols1 = ['os3','s1','s5','s6','s10','s16','s18','s19']\n",
    "    df = df.drop(drop_cols1, axis = 1)\n",
    "\n",
    "    #minmax scale the sensor values\n",
    "    minmax_dict=minmax_dic(df)\n",
    "    df=minmax_scl(df, minmax_dict)\n",
    "\n",
    "    #smoothing the training & test data\n",
    "    df=smoothing(df)\n",
    "\n",
    "    #drop original data\n",
    "    df=drop_org(df)\n",
    "\n",
    "    return df\n",
    "    "
   ]
  },
  {
   "cell_type": "code",
   "execution_count": 34,
   "metadata": {},
   "outputs": [],
   "source": [
    "def get_y_true_and_pred(model_input, test_input):\n",
    "\n",
    "    model_path, train_path = choose_model(model_input)\n",
    "    test_path, RUL_path = choose_test(test_input)\n",
    "\n",
    "    df_train = wrangle_data(train_path)\n",
    "    df_test = wrangle_data(test_path)\n",
    "\n",
    "    # Instantiate the model\n",
    "    n_features = len([c for c in df_train.columns if 's' in c])\n",
    "    loaded_model = LSTMRegressor(n_features, n_hidden_units)\n",
    "\n",
    "    # Load the saved state_dict\n",
    "    full_model_path = Path(model_path) \n",
    "    loaded_model.load_state_dict(torch.load(full_model_path))\n",
    "\n",
    "    eng_num=df_test['unit'].max()+1\n",
    "    units = np.arange(1,eng_num)\n",
    "\n",
    "    test_data = test(units, df_test)\n",
    "\n",
    "    torch.manual_seed(5)\n",
    "\n",
    "    testloader = DataLoader(test_data, batch_size = 100)\n",
    "    mse, l1, y_pred, y = test_model(loaded_model, testloader, device)\n",
    "\n",
    "    df_RUL = pd.read_csv(Path(RUL_path), header=None, sep = ' ')\n",
    "    y=df_RUL[0].to_list()\n",
    "\n",
    "    return y, y_pred\n"
   ]
  },
  {
   "cell_type": "code",
   "execution_count": 35,
   "metadata": {},
   "outputs": [],
   "source": [
    "y, y_pred = get_y_true_and_pred('model4', 'test4')"
   ]
  },
  {
   "cell_type": "code",
   "execution_count": 36,
   "metadata": {},
   "outputs": [
    {
     "data": {
      "application/vnd.plotly.v1+json": {
       "config": {
        "plotlyServerURL": "https://plot.ly"
       },
       "data": [
        {
         "mode": "lines",
         "name": "prediction",
         "type": "scatter",
         "x": [
          0,
          1,
          2,
          3,
          4,
          5,
          6,
          7,
          8,
          9,
          10,
          11,
          12,
          13,
          14,
          15,
          16,
          17,
          18,
          19,
          20,
          21,
          22,
          23,
          24,
          25,
          26,
          27,
          28,
          29,
          30,
          31,
          32,
          33,
          34,
          35,
          36,
          37,
          38,
          39,
          40,
          41,
          42,
          43,
          44,
          45,
          46,
          47,
          48,
          49,
          50,
          51,
          52,
          53,
          54,
          55,
          56,
          57,
          58,
          59,
          60,
          61,
          62,
          63,
          64,
          65,
          66,
          67,
          68,
          69,
          70,
          71,
          72,
          73,
          74,
          75,
          76,
          77,
          78,
          79,
          80,
          81,
          82,
          83,
          84,
          85,
          86,
          87,
          88,
          89,
          90,
          91,
          92,
          93,
          94,
          95,
          96,
          97,
          98,
          99
         ],
         "y": [
          16.859683990478516,
          21.417707443237305,
          124.98054504394531,
          97.64228820800781,
          -0.5806862711906433,
          102.66001892089844,
          -2.045814275741577,
          -40.72001266479492,
          48.397010803222656,
          21.822185516357422,
          50.20930480957031,
          -21.299386978149414,
          29.23906135559082,
          12.62568473815918,
          -21.563426971435547,
          71.08006286621094,
          33.33478927612305,
          20.722108840942383,
          134.35037231445312,
          10.538418769836426,
          32.47901916503906,
          -28.78273582458496,
          -9.25371265411377,
          30.36763572692871,
          -22.549072265625,
          22.990278244018555,
          1.139176607131958,
          30.406835556030273,
          49.028564453125,
          55.759910583496094,
          -16.88150978088379,
          -5.358943939208984,
          180.06344604492188,
          95.41819763183594,
          -29.44710350036621,
          18.76737403869629,
          7.160539150238037,
          11.712282180786133,
          26.552358627319336,
          -18.819372177124023,
          48.56193923950195,
          -14.696789741516113,
          31.895708084106445,
          -23.0000057220459,
          16.229345321655273,
          24.706621170043945,
          -20.907636642456055,
          50.91115188598633,
          -3.2768285274505615,
          72.42108154296875,
          156.58091735839844,
          229.18521118164062,
          29.138683319091797,
          11.404168128967285,
          37.1724853515625,
          81.59906768798828,
          142.7556915283203,
          -9.354860305786133,
          70.27125549316406,
          13.57812213897705,
          -35.781585693359375,
          8.563910484313965,
          30.398515701293945,
          -14.439146995544434,
          5.532071590423584,
          22.318645477294922,
          7.042211532592773,
          -14.951025009155273,
          -23.011388778686523,
          -9.211522102355957,
          -19.183408737182617,
          190.355712890625,
          -14.272268295288086,
          166.1346893310547,
          28.64742088317871,
          53.67655563354492,
          21.216054916381836,
          51.508689880371094,
          23.75037956237793,
          2.8138511180877686,
          38.702613830566406,
          -14.471022605895996,
          55.25267028808594,
          178.60494995117188,
          83.46800994873047,
          -11.946475982666016,
          143.67173767089844,
          22.63312530517578,
          4.776956081390381,
          3.4761102199554443,
          -5.082581043243408,
          25.94039535522461,
          204.45858764648438,
          37.70079803466797,
          28.599510192871094,
          7.946864604949951,
          16.758651733398438,
          57.07463836669922,
          14.739668846130371,
          -20.968034744262695
         ]
        },
        {
         "mode": "lines",
         "name": "True",
         "type": "scatter",
         "x": [
          0,
          1,
          2,
          3,
          4,
          5,
          6,
          7,
          8,
          9,
          10,
          11,
          12,
          13,
          14,
          15,
          16,
          17,
          18,
          19,
          20,
          21,
          22,
          23,
          24,
          25,
          26,
          27,
          28,
          29,
          30,
          31,
          32,
          33,
          34,
          35,
          36,
          37,
          38,
          39,
          40,
          41,
          42,
          43,
          44,
          45,
          46,
          47,
          48,
          49,
          50,
          51,
          52,
          53,
          54,
          55,
          56,
          57,
          58,
          59,
          60,
          61,
          62,
          63,
          64,
          65,
          66,
          67,
          68,
          69,
          70,
          71,
          72,
          73,
          74,
          75,
          76,
          77,
          78,
          79,
          80,
          81,
          82,
          83,
          84,
          85,
          86,
          87,
          88,
          89,
          90,
          91,
          92,
          93,
          94,
          95,
          96,
          97,
          98,
          99,
          100,
          101,
          102,
          103,
          104,
          105,
          106,
          107,
          108,
          109,
          110,
          111,
          112,
          113,
          114,
          115,
          116,
          117,
          118,
          119,
          120,
          121,
          122,
          123,
          124,
          125,
          126,
          127,
          128,
          129,
          130,
          131,
          132,
          133,
          134,
          135,
          136,
          137,
          138,
          139,
          140,
          141,
          142,
          143,
          144,
          145,
          146,
          147,
          148,
          149,
          150,
          151,
          152,
          153,
          154,
          155,
          156,
          157,
          158,
          159,
          160,
          161,
          162,
          163,
          164,
          165,
          166,
          167,
          168,
          169,
          170,
          171,
          172,
          173,
          174,
          175,
          176,
          177,
          178,
          179,
          180,
          181,
          182,
          183,
          184,
          185,
          186,
          187,
          188,
          189,
          190,
          191,
          192,
          193,
          194,
          195,
          196,
          197,
          198,
          199,
          200,
          201,
          202,
          203,
          204,
          205,
          206,
          207,
          208,
          209,
          210,
          211,
          212,
          213,
          214,
          215,
          216,
          217,
          218,
          219,
          220,
          221,
          222,
          223,
          224,
          225,
          226,
          227,
          228,
          229,
          230,
          231,
          232,
          233,
          234,
          235,
          236,
          237,
          238,
          239,
          240,
          241,
          242,
          243,
          244,
          245,
          246,
          247
         ],
         "y": [
          22,
          39,
          107,
          75,
          149,
          78,
          94,
          14,
          99,
          162,
          143,
          7,
          71,
          105,
          12,
          160,
          162,
          104,
          194,
          82,
          91,
          11,
          26,
          142,
          39,
          92,
          76,
          124,
          64,
          118,
          6,
          22,
          147,
          126,
          36,
          73,
          89,
          11,
          151,
          10,
          97,
          30,
          42,
          60,
          85,
          134,
          34,
          45,
          24,
          86,
          119,
          151,
          142,
          176,
          157,
          67,
          97,
          8,
          154,
          139,
          51,
          33,
          184,
          46,
          12,
          133,
          46,
          46,
          12,
          33,
          15,
          176,
          23,
          89,
          124,
          163,
          25,
          74,
          78,
          114,
          96,
          10,
          172,
          166,
          115,
          70,
          94,
          56,
          86,
          96,
          50,
          73,
          154,
          129,
          171,
          71,
          105,
          113,
          37,
          7,
          13,
          22,
          9,
          120,
          100,
          107,
          41,
          153,
          126,
          59,
          18,
          66,
          13,
          14,
          139,
          13,
          75,
          8,
          109,
          137,
          41,
          192,
          23,
          86,
          184,
          15,
          195,
          126,
          120,
          165,
          101,
          116,
          126,
          36,
          7,
          122,
          159,
          88,
          173,
          146,
          130,
          108,
          53,
          162,
          59,
          100,
          56,
          145,
          76,
          57,
          31,
          88,
          173,
          34,
          7,
          133,
          172,
          6,
          22,
          83,
          82,
          84,
          95,
          174,
          111,
          72,
          109,
          87,
          179,
          158,
          126,
          12,
          8,
          10,
          123,
          103,
          12,
          106,
          12,
          32,
          37,
          116,
          15,
          10,
          46,
          142,
          24,
          135,
          56,
          43,
          178,
          71,
          104,
          15,
          166,
          89,
          36,
          11,
          92,
          96,
          59,
          13,
          167,
          151,
          154,
          109,
          116,
          91,
          11,
          88,
          108,
          76,
          14,
          89,
          145,
          17,
          66,
          154,
          41,
          182,
          73,
          39,
          58,
          14,
          145,
          88,
          162,
          189,
          120,
          98,
          33,
          184,
          110,
          68,
          24,
          75,
          18,
          16,
          166,
          98,
          176,
          81,
          118,
          35,
          131,
          194,
          112,
          26
         ]
        }
       ],
       "layout": {
        "font": {
         "color": "black",
         "size": 18
        },
        "template": {
         "data": {
          "bar": [
           {
            "error_x": {
             "color": "#2a3f5f"
            },
            "error_y": {
             "color": "#2a3f5f"
            },
            "marker": {
             "line": {
              "color": "#E5ECF6",
              "width": 0.5
             },
             "pattern": {
              "fillmode": "overlay",
              "size": 10,
              "solidity": 0.2
             }
            },
            "type": "bar"
           }
          ],
          "barpolar": [
           {
            "marker": {
             "line": {
              "color": "#E5ECF6",
              "width": 0.5
             },
             "pattern": {
              "fillmode": "overlay",
              "size": 10,
              "solidity": 0.2
             }
            },
            "type": "barpolar"
           }
          ],
          "carpet": [
           {
            "aaxis": {
             "endlinecolor": "#2a3f5f",
             "gridcolor": "white",
             "linecolor": "white",
             "minorgridcolor": "white",
             "startlinecolor": "#2a3f5f"
            },
            "baxis": {
             "endlinecolor": "#2a3f5f",
             "gridcolor": "white",
             "linecolor": "white",
             "minorgridcolor": "white",
             "startlinecolor": "#2a3f5f"
            },
            "type": "carpet"
           }
          ],
          "choropleth": [
           {
            "colorbar": {
             "outlinewidth": 0,
             "ticks": ""
            },
            "type": "choropleth"
           }
          ],
          "contour": [
           {
            "colorbar": {
             "outlinewidth": 0,
             "ticks": ""
            },
            "colorscale": [
             [
              0,
              "#0d0887"
             ],
             [
              0.1111111111111111,
              "#46039f"
             ],
             [
              0.2222222222222222,
              "#7201a8"
             ],
             [
              0.3333333333333333,
              "#9c179e"
             ],
             [
              0.4444444444444444,
              "#bd3786"
             ],
             [
              0.5555555555555556,
              "#d8576b"
             ],
             [
              0.6666666666666666,
              "#ed7953"
             ],
             [
              0.7777777777777778,
              "#fb9f3a"
             ],
             [
              0.8888888888888888,
              "#fdca26"
             ],
             [
              1,
              "#f0f921"
             ]
            ],
            "type": "contour"
           }
          ],
          "contourcarpet": [
           {
            "colorbar": {
             "outlinewidth": 0,
             "ticks": ""
            },
            "type": "contourcarpet"
           }
          ],
          "heatmap": [
           {
            "colorbar": {
             "outlinewidth": 0,
             "ticks": ""
            },
            "colorscale": [
             [
              0,
              "#0d0887"
             ],
             [
              0.1111111111111111,
              "#46039f"
             ],
             [
              0.2222222222222222,
              "#7201a8"
             ],
             [
              0.3333333333333333,
              "#9c179e"
             ],
             [
              0.4444444444444444,
              "#bd3786"
             ],
             [
              0.5555555555555556,
              "#d8576b"
             ],
             [
              0.6666666666666666,
              "#ed7953"
             ],
             [
              0.7777777777777778,
              "#fb9f3a"
             ],
             [
              0.8888888888888888,
              "#fdca26"
             ],
             [
              1,
              "#f0f921"
             ]
            ],
            "type": "heatmap"
           }
          ],
          "heatmapgl": [
           {
            "colorbar": {
             "outlinewidth": 0,
             "ticks": ""
            },
            "colorscale": [
             [
              0,
              "#0d0887"
             ],
             [
              0.1111111111111111,
              "#46039f"
             ],
             [
              0.2222222222222222,
              "#7201a8"
             ],
             [
              0.3333333333333333,
              "#9c179e"
             ],
             [
              0.4444444444444444,
              "#bd3786"
             ],
             [
              0.5555555555555556,
              "#d8576b"
             ],
             [
              0.6666666666666666,
              "#ed7953"
             ],
             [
              0.7777777777777778,
              "#fb9f3a"
             ],
             [
              0.8888888888888888,
              "#fdca26"
             ],
             [
              1,
              "#f0f921"
             ]
            ],
            "type": "heatmapgl"
           }
          ],
          "histogram": [
           {
            "marker": {
             "pattern": {
              "fillmode": "overlay",
              "size": 10,
              "solidity": 0.2
             }
            },
            "type": "histogram"
           }
          ],
          "histogram2d": [
           {
            "colorbar": {
             "outlinewidth": 0,
             "ticks": ""
            },
            "colorscale": [
             [
              0,
              "#0d0887"
             ],
             [
              0.1111111111111111,
              "#46039f"
             ],
             [
              0.2222222222222222,
              "#7201a8"
             ],
             [
              0.3333333333333333,
              "#9c179e"
             ],
             [
              0.4444444444444444,
              "#bd3786"
             ],
             [
              0.5555555555555556,
              "#d8576b"
             ],
             [
              0.6666666666666666,
              "#ed7953"
             ],
             [
              0.7777777777777778,
              "#fb9f3a"
             ],
             [
              0.8888888888888888,
              "#fdca26"
             ],
             [
              1,
              "#f0f921"
             ]
            ],
            "type": "histogram2d"
           }
          ],
          "histogram2dcontour": [
           {
            "colorbar": {
             "outlinewidth": 0,
             "ticks": ""
            },
            "colorscale": [
             [
              0,
              "#0d0887"
             ],
             [
              0.1111111111111111,
              "#46039f"
             ],
             [
              0.2222222222222222,
              "#7201a8"
             ],
             [
              0.3333333333333333,
              "#9c179e"
             ],
             [
              0.4444444444444444,
              "#bd3786"
             ],
             [
              0.5555555555555556,
              "#d8576b"
             ],
             [
              0.6666666666666666,
              "#ed7953"
             ],
             [
              0.7777777777777778,
              "#fb9f3a"
             ],
             [
              0.8888888888888888,
              "#fdca26"
             ],
             [
              1,
              "#f0f921"
             ]
            ],
            "type": "histogram2dcontour"
           }
          ],
          "mesh3d": [
           {
            "colorbar": {
             "outlinewidth": 0,
             "ticks": ""
            },
            "type": "mesh3d"
           }
          ],
          "parcoords": [
           {
            "line": {
             "colorbar": {
              "outlinewidth": 0,
              "ticks": ""
             }
            },
            "type": "parcoords"
           }
          ],
          "pie": [
           {
            "automargin": true,
            "type": "pie"
           }
          ],
          "scatter": [
           {
            "fillpattern": {
             "fillmode": "overlay",
             "size": 10,
             "solidity": 0.2
            },
            "type": "scatter"
           }
          ],
          "scatter3d": [
           {
            "line": {
             "colorbar": {
              "outlinewidth": 0,
              "ticks": ""
             }
            },
            "marker": {
             "colorbar": {
              "outlinewidth": 0,
              "ticks": ""
             }
            },
            "type": "scatter3d"
           }
          ],
          "scattercarpet": [
           {
            "marker": {
             "colorbar": {
              "outlinewidth": 0,
              "ticks": ""
             }
            },
            "type": "scattercarpet"
           }
          ],
          "scattergeo": [
           {
            "marker": {
             "colorbar": {
              "outlinewidth": 0,
              "ticks": ""
             }
            },
            "type": "scattergeo"
           }
          ],
          "scattergl": [
           {
            "marker": {
             "colorbar": {
              "outlinewidth": 0,
              "ticks": ""
             }
            },
            "type": "scattergl"
           }
          ],
          "scattermapbox": [
           {
            "marker": {
             "colorbar": {
              "outlinewidth": 0,
              "ticks": ""
             }
            },
            "type": "scattermapbox"
           }
          ],
          "scatterpolar": [
           {
            "marker": {
             "colorbar": {
              "outlinewidth": 0,
              "ticks": ""
             }
            },
            "type": "scatterpolar"
           }
          ],
          "scatterpolargl": [
           {
            "marker": {
             "colorbar": {
              "outlinewidth": 0,
              "ticks": ""
             }
            },
            "type": "scatterpolargl"
           }
          ],
          "scatterternary": [
           {
            "marker": {
             "colorbar": {
              "outlinewidth": 0,
              "ticks": ""
             }
            },
            "type": "scatterternary"
           }
          ],
          "surface": [
           {
            "colorbar": {
             "outlinewidth": 0,
             "ticks": ""
            },
            "colorscale": [
             [
              0,
              "#0d0887"
             ],
             [
              0.1111111111111111,
              "#46039f"
             ],
             [
              0.2222222222222222,
              "#7201a8"
             ],
             [
              0.3333333333333333,
              "#9c179e"
             ],
             [
              0.4444444444444444,
              "#bd3786"
             ],
             [
              0.5555555555555556,
              "#d8576b"
             ],
             [
              0.6666666666666666,
              "#ed7953"
             ],
             [
              0.7777777777777778,
              "#fb9f3a"
             ],
             [
              0.8888888888888888,
              "#fdca26"
             ],
             [
              1,
              "#f0f921"
             ]
            ],
            "type": "surface"
           }
          ],
          "table": [
           {
            "cells": {
             "fill": {
              "color": "#EBF0F8"
             },
             "line": {
              "color": "white"
             }
            },
            "header": {
             "fill": {
              "color": "#C8D4E3"
             },
             "line": {
              "color": "white"
             }
            },
            "type": "table"
           }
          ]
         },
         "layout": {
          "annotationdefaults": {
           "arrowcolor": "#2a3f5f",
           "arrowhead": 0,
           "arrowwidth": 1
          },
          "autotypenumbers": "strict",
          "coloraxis": {
           "colorbar": {
            "outlinewidth": 0,
            "ticks": ""
           }
          },
          "colorscale": {
           "diverging": [
            [
             0,
             "#8e0152"
            ],
            [
             0.1,
             "#c51b7d"
            ],
            [
             0.2,
             "#de77ae"
            ],
            [
             0.3,
             "#f1b6da"
            ],
            [
             0.4,
             "#fde0ef"
            ],
            [
             0.5,
             "#f7f7f7"
            ],
            [
             0.6,
             "#e6f5d0"
            ],
            [
             0.7,
             "#b8e186"
            ],
            [
             0.8,
             "#7fbc41"
            ],
            [
             0.9,
             "#4d9221"
            ],
            [
             1,
             "#276419"
            ]
           ],
           "sequential": [
            [
             0,
             "#0d0887"
            ],
            [
             0.1111111111111111,
             "#46039f"
            ],
            [
             0.2222222222222222,
             "#7201a8"
            ],
            [
             0.3333333333333333,
             "#9c179e"
            ],
            [
             0.4444444444444444,
             "#bd3786"
            ],
            [
             0.5555555555555556,
             "#d8576b"
            ],
            [
             0.6666666666666666,
             "#ed7953"
            ],
            [
             0.7777777777777778,
             "#fb9f3a"
            ],
            [
             0.8888888888888888,
             "#fdca26"
            ],
            [
             1,
             "#f0f921"
            ]
           ],
           "sequentialminus": [
            [
             0,
             "#0d0887"
            ],
            [
             0.1111111111111111,
             "#46039f"
            ],
            [
             0.2222222222222222,
             "#7201a8"
            ],
            [
             0.3333333333333333,
             "#9c179e"
            ],
            [
             0.4444444444444444,
             "#bd3786"
            ],
            [
             0.5555555555555556,
             "#d8576b"
            ],
            [
             0.6666666666666666,
             "#ed7953"
            ],
            [
             0.7777777777777778,
             "#fb9f3a"
            ],
            [
             0.8888888888888888,
             "#fdca26"
            ],
            [
             1,
             "#f0f921"
            ]
           ]
          },
          "colorway": [
           "#636efa",
           "#EF553B",
           "#00cc96",
           "#ab63fa",
           "#FFA15A",
           "#19d3f3",
           "#FF6692",
           "#B6E880",
           "#FF97FF",
           "#FECB52"
          ],
          "font": {
           "color": "#2a3f5f"
          },
          "geo": {
           "bgcolor": "white",
           "lakecolor": "white",
           "landcolor": "#E5ECF6",
           "showlakes": true,
           "showland": true,
           "subunitcolor": "white"
          },
          "hoverlabel": {
           "align": "left"
          },
          "hovermode": "closest",
          "mapbox": {
           "style": "light"
          },
          "paper_bgcolor": "white",
          "plot_bgcolor": "#E5ECF6",
          "polar": {
           "angularaxis": {
            "gridcolor": "white",
            "linecolor": "white",
            "ticks": ""
           },
           "bgcolor": "#E5ECF6",
           "radialaxis": {
            "gridcolor": "white",
            "linecolor": "white",
            "ticks": ""
           }
          },
          "scene": {
           "xaxis": {
            "backgroundcolor": "#E5ECF6",
            "gridcolor": "white",
            "gridwidth": 2,
            "linecolor": "white",
            "showbackground": true,
            "ticks": "",
            "zerolinecolor": "white"
           },
           "yaxis": {
            "backgroundcolor": "#E5ECF6",
            "gridcolor": "white",
            "gridwidth": 2,
            "linecolor": "white",
            "showbackground": true,
            "ticks": "",
            "zerolinecolor": "white"
           },
           "zaxis": {
            "backgroundcolor": "#E5ECF6",
            "gridcolor": "white",
            "gridwidth": 2,
            "linecolor": "white",
            "showbackground": true,
            "ticks": "",
            "zerolinecolor": "white"
           }
          },
          "shapedefaults": {
           "line": {
            "color": "#2a3f5f"
           }
          },
          "ternary": {
           "aaxis": {
            "gridcolor": "white",
            "linecolor": "white",
            "ticks": ""
           },
           "baxis": {
            "gridcolor": "white",
            "linecolor": "white",
            "ticks": ""
           },
           "bgcolor": "#E5ECF6",
           "caxis": {
            "gridcolor": "white",
            "linecolor": "white",
            "ticks": ""
           }
          },
          "title": {
           "x": 0.05
          },
          "xaxis": {
           "automargin": true,
           "gridcolor": "white",
           "linecolor": "white",
           "ticks": "",
           "title": {
            "standoff": 15
           },
           "zerolinecolor": "white",
           "zerolinewidth": 2
          },
          "yaxis": {
           "automargin": true,
           "gridcolor": "white",
           "linecolor": "white",
           "ticks": "",
           "title": {
            "standoff": 15
           },
           "zerolinecolor": "white",
           "zerolinewidth": 2
          }
         }
        },
        "title": {
         "text": "RUL prediction"
        },
        "xaxis": {
         "title": {
          "text": "Time"
         }
        },
        "yaxis": {
         "title": {
          "text": "RUL"
         }
        }
       }
      }
     },
     "metadata": {},
     "output_type": "display_data"
    }
   ],
   "source": [
    "plt_rlu(y, y_pred)"
   ]
  },
  {
   "cell_type": "code",
   "execution_count": null,
   "metadata": {},
   "outputs": [],
   "source": []
  }
 ],
 "metadata": {
  "kernelspec": {
   "display_name": "BA",
   "language": "python",
   "name": "python3"
  },
  "language_info": {
   "codemirror_mode": {
    "name": "ipython",
    "version": 3
   },
   "file_extension": ".py",
   "mimetype": "text/x-python",
   "name": "python",
   "nbconvert_exporter": "python",
   "pygments_lexer": "ipython3",
   "version": "3.8.15"
  },
  "orig_nbformat": 4
 },
 "nbformat": 4,
 "nbformat_minor": 2
}
