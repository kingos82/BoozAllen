{
 "cells": [
  {
   "cell_type": "code",
   "execution_count": 1,
   "metadata": {},
   "outputs": [],
   "source": [
    "import pandas as pd\n",
    "import numpy as np\n",
    "from sklearn.decomposition import PCA\n",
    "from sklearn.preprocessing import StandardScaler"
   ]
  },
  {
   "cell_type": "code",
   "execution_count": 2,
   "metadata": {},
   "outputs": [],
   "source": [
    "url='/home/kingos82/Fourthbrain/BoozAllen/CMAPSSData/train_FD001.txt'\n",
    "column_names = [\n",
    "  'Unit', 'Cycles', 'Altitude', 'Mach', 'TRA',\n",
    "  'T2', 'T24', 'T30', 'T50', 'P2', 'P15', 'P30', 'Nf', 'Nc', 'epr', 'Ps30', 'phi', 'NRf', 'NRc', 'BPR', 'farB', 'htBleed', 'Nf_dmd', 'PCNfR_dmd', 'W31', 'W32',\n",
    "  's22', 's23']\n",
    "X_train=pd.read_csv(url, sep= ' ', names=column_names)\n",
    "url='/home/kingos82/Fourthbrain/BoozAllen/CMAPSSData/test_FD001.txt'\n",
    "X_test=pd.read_csv(url, sep= ' ', names=column_names)\n"
   ]
  },
  {
   "cell_type": "code",
   "execution_count": 10,
   "metadata": {},
   "outputs": [
    {
     "data": {
      "text/plain": [
       "dtype('float64')"
      ]
     },
     "execution_count": 10,
     "metadata": {},
     "output_type": "execute_result"
    }
   ],
   "source": [
    "y_train=np.zeros(X_train.shape[0])\n",
    "y_train[max_cyc_index]=1\n",
    "y_train.dtype\n",
    "\n",
    "\n",
    "y_test=np.zeros(X_test.shape[0])\n",
    "y_test[max_cyc_test]=1\n",
    "y_test.shape\n",
    "\n",
    "X_reduced0=X_train.drop(['Unit', 'Cycles', 's22', 's23'], axis=1)\n",
    "\n",
    "X_test_reduced0=X_test.drop(['Unit', 'Cycles', 's22', 's23'], axis=1)"
   ]
  },
  {
   "cell_type": "code",
   "execution_count": 57,
   "metadata": {},
   "outputs": [
    {
     "name": "stdout",
     "output_type": "stream",
     "text": [
      "192 192\n",
      "287 287\n",
      "179 179\n",
      "189 189\n",
      "269 269\n",
      "188 188\n",
      "259 259\n",
      "150 150\n",
      "201 201\n",
      "222 222\n",
      "240 240\n",
      "170 170\n",
      "163 163\n",
      "180 180\n",
      "207 207\n",
      "209 209\n",
      "276 276\n",
      "195 195\n",
      "158 158\n",
      "234 234\n",
      "195 195\n",
      "202 202\n",
      "168 168\n",
      "147 147\n",
      "230 230\n",
      "199 199\n",
      "156 156\n",
      "165 165\n",
      "163 163\n",
      "194 194\n",
      "234 234\n",
      "191 191\n",
      "200 200\n",
      "195 195\n",
      "181 181\n",
      "158 158\n",
      "170 170\n",
      "194 194\n",
      "128 128\n",
      "188 188\n",
      "216 216\n",
      "196 196\n",
      "207 207\n",
      "192 192\n",
      "158 158\n",
      "256 256\n",
      "214 214\n",
      "231 231\n",
      "215 215\n",
      "198 198\n",
      "213 213\n",
      "213 213\n",
      "195 195\n",
      "257 257\n",
      "193 193\n",
      "275 275\n",
      "137 137\n",
      "147 147\n",
      "231 231\n",
      "172 172\n",
      "185 185\n",
      "180 180\n",
      "174 174\n",
      "283 283\n",
      "153 153\n",
      "202 202\n",
      "313 313\n",
      "199 199\n",
      "362 362\n",
      "137 137\n",
      "208 208\n",
      "213 213\n",
      "213 213\n",
      "166 166\n",
      "229 229\n",
      "210 210\n",
      "154 154\n",
      "231 231\n",
      "199 199\n",
      "185 185\n",
      "240 240\n",
      "214 214\n",
      "293 293\n",
      "267 267\n",
      "188 188\n",
      "278 278\n",
      "178 178\n",
      "213 213\n",
      "217 217\n",
      "154 154\n",
      "135 135\n",
      "341 341\n",
      "155 155\n",
      "258 258\n",
      "283 283\n",
      "336 336\n",
      "202 202\n",
      "156 156\n",
      "185 185\n",
      "200 200\n",
      "31 31\n",
      "49 49\n",
      "126 126\n",
      "106 106\n",
      "98 98\n",
      "105 105\n",
      "160 160\n",
      "166 166\n",
      "55 55\n",
      "192 192\n",
      "83 83\n",
      "217 217\n",
      "195 195\n",
      "46 46\n",
      "76 76\n",
      "113 113\n",
      "165 165\n",
      "133 133\n",
      "135 135\n",
      "184 184\n",
      "148 148\n",
      "39 39\n",
      "130 130\n",
      "186 186\n",
      "48 48\n",
      "76 76\n",
      "140 140\n",
      "158 158\n",
      "171 171\n",
      "143 143\n",
      "196 196\n",
      "145 145\n",
      "50 50\n",
      "203 203\n",
      "198 198\n",
      "126 126\n",
      "121 121\n",
      "125 125\n",
      "37 37\n",
      "133 133\n",
      "123 123\n",
      "156 156\n",
      "172 172\n",
      "54 54\n",
      "152 152\n",
      "146 146\n",
      "73 73\n",
      "78 78\n",
      "303 303\n",
      "74 74\n",
      "144 144\n",
      "189 189\n",
      "164 164\n",
      "121 121\n",
      "113 113\n",
      "136 136\n",
      "160 160\n",
      "176 176\n",
      "94 94\n",
      "147 147\n",
      "159 159\n",
      "232 232\n",
      "155 155\n",
      "168 168\n",
      "71 71\n",
      "147 147\n",
      "71 71\n",
      "187 187\n",
      "54 54\n",
      "152 152\n",
      "68 68\n",
      "131 131\n",
      "112 112\n",
      "137 137\n",
      "88 88\n",
      "205 205\n",
      "162 162\n",
      "72 72\n",
      "101 101\n",
      "133 133\n",
      "213 213\n",
      "162 162\n",
      "73 73\n",
      "172 172\n",
      "34 34\n",
      "110 110\n",
      "56 56\n",
      "68 68\n",
      "177 177\n",
      "146 146\n",
      "234 234\n",
      "150 150\n",
      "244 244\n",
      "133 133\n",
      "89 89\n",
      "97 97\n",
      "134 134\n",
      "121 121\n",
      "97 97\n",
      "198 198\n"
     ]
    }
   ],
   "source": [
    "\n",
    "c2end=1\n",
    "c2end_train=[]\n",
    "for i in X_train['Unit'].unique():\n",
    "    j=max(X_train.loc[(X_train.Unit == i)]['Cycles'])\n",
    "    for i0 in range(j-c2end, j):\n",
    "        #print(j, i0+1)\n",
    "        c2end_train.append(X_train.loc[(X_train.Unit==i) & (X_train.Cycles==i0+1)].index)\n",
    "\n",
    "\n",
    "\n",
    "c2end_test=[]\n",
    "for i in X_test['Unit'].unique():\n",
    "    j=max(X_test.loc[(X_test.Unit == i)]['Cycles'])\n",
    "    for i0 in range(j-c2end, j):\n",
    "        #print(j, i0+1)\n",
    "        c2end_test.append(X_test.loc[(X_test.Unit==i) & (X_test.Cycles==i0+1)].index)   "
   ]
  },
  {
   "cell_type": "code",
   "execution_count": 58,
   "metadata": {},
   "outputs": [
    {
     "name": "stdout",
     "output_type": "stream",
     "text": [
      "(20631,)\n"
     ]
    },
    {
     "data": {
      "text/plain": [
       "(13096,)"
      ]
     },
     "execution_count": 58,
     "metadata": {},
     "output_type": "execute_result"
    }
   ],
   "source": [
    "y_train=np.zeros(X_train.shape[0])\n",
    "y_train[c2end_train]=1\n",
    "print(y_train.shape)\n",
    "\n",
    "\n",
    "y_test=np.zeros(X_test.shape[0])\n",
    "y_test[c2end_test]=1\n",
    "y_test.shape\n",
    "\n"
   ]
  },
  {
   "cell_type": "code",
   "execution_count": 59,
   "metadata": {},
   "outputs": [],
   "source": [
    "X_train_reduced=X_train.drop(['Unit', 'Cycles', 's22', 's23'], axis=1)\n",
    "\n",
    "X_test_reduced=X_test.drop(['Unit', 'Cycles', 's22', 's23'], axis=1)"
   ]
  },
  {
   "cell_type": "code",
   "execution_count": 38,
   "metadata": {},
   "outputs": [],
   "source": [
    "# YOUR CODE HERE (imports!)\n",
    "from sklearn.linear_model import LinearRegression, LogisticRegression\n",
    "from sklearn.model_selection import train_test_split\n",
    "from sklearn.impute import SimpleImputer\n",
    "from sklearn.metrics import classification_report\n",
    "from sklearn.pipeline import make_pipeline"
   ]
  },
  {
   "cell_type": "code",
   "execution_count": 60,
   "metadata": {},
   "outputs": [
    {
     "name": "stdout",
     "output_type": "stream",
     "text": [
      "              precision    recall  f1-score   support\n",
      "\n",
      "         0.0   0.992438  0.999769  0.996090     12996\n",
      "         1.0   0.250000  0.010000  0.019231       100\n",
      "\n",
      "    accuracy                       0.992211     13096\n",
      "   macro avg   0.621219  0.504885  0.507660     13096\n",
      "weighted avg   0.986769  0.992211  0.988631     13096\n",
      "\n"
     ]
    },
    {
     "name": "stderr",
     "output_type": "stream",
     "text": [
      "/home/kingos82/anaconda3/envs/BA/lib/python3.8/site-packages/sklearn/linear_model/_logistic.py:458: ConvergenceWarning: lbfgs failed to converge (status=1):\n",
      "STOP: TOTAL NO. of ITERATIONS REACHED LIMIT.\n",
      "\n",
      "Increase the number of iterations (max_iter) or scale the data as shown in:\n",
      "    https://scikit-learn.org/stable/modules/preprocessing.html\n",
      "Please also refer to the documentation for alternative solver options:\n",
      "    https://scikit-learn.org/stable/modules/linear_model.html#logistic-regression\n",
      "  n_iter_i = _check_optimize_result(\n"
     ]
    }
   ],
   "source": [
    "pp=make_pipeline(StandardScaler(), LogisticRegression(class_weight='balanced'))\n",
    "\n",
    "pp.fit(X_train_reduced, y_train)\n",
    "y_test_hat=pp.predict(X_test_reduced)\n",
    "print(classification_report(y_test, y_test_hat, digits=6))  "
   ]
  },
  {
   "cell_type": "code",
   "execution_count": 61,
   "metadata": {},
   "outputs": [
    {
     "name": "stdout",
     "output_type": "stream",
     "text": [
      "              precision    recall  f1-score   support\n",
      "\n",
      "         0.0   0.992808  0.998461  0.995626     12996\n",
      "         1.0   0.230769  0.060000  0.095238       100\n",
      "\n",
      "    accuracy                       0.991295     13096\n",
      "   macro avg   0.611789  0.529231  0.545432     13096\n",
      "weighted avg   0.986989  0.991295  0.988751     13096\n",
      "\n"
     ]
    },
    {
     "name": "stderr",
     "output_type": "stream",
     "text": [
      "/home/kingos82/anaconda3/envs/BA/lib/python3.8/site-packages/sklearn/linear_model/_logistic.py:458: ConvergenceWarning: lbfgs failed to converge (status=1):\n",
      "STOP: TOTAL NO. of ITERATIONS REACHED LIMIT.\n",
      "\n",
      "Increase the number of iterations (max_iter) or scale the data as shown in:\n",
      "    https://scikit-learn.org/stable/modules/preprocessing.html\n",
      "Please also refer to the documentation for alternative solver options:\n",
      "    https://scikit-learn.org/stable/modules/linear_model.html#logistic-regression\n",
      "  n_iter_i = _check_optimize_result(\n"
     ]
    }
   ],
   "source": [
    "pp0=make_pipeline(LogisticRegression(class_weight='balanced'))\n",
    "\n",
    "pp0.fit(X_train_reduced, y_train)\n",
    "y_test_hat0=pp0.predict(X_test_reduced)\n",
    "print(classification_report(y_test, y_test_hat0, digits=6))  "
   ]
  }
 ],
 "metadata": {
  "kernelspec": {
   "display_name": "BA",
   "language": "python",
   "name": "python3"
  },
  "language_info": {
   "codemirror_mode": {
    "name": "ipython",
    "version": 3
   },
   "file_extension": ".py",
   "mimetype": "text/x-python",
   "name": "python",
   "nbconvert_exporter": "python",
   "pygments_lexer": "ipython3",
   "version": "3.8.15"
  },
  "orig_nbformat": 4,
  "vscode": {
   "interpreter": {
    "hash": "9ca88d3cf8e07ee2d6c6f77c8f113fc40316fc80a1a421f33f6425f55e28e256"
   }
  }
 },
 "nbformat": 4,
 "nbformat_minor": 2
}
